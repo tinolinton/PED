{
 "cells": [
  {
   "cell_type": "markdown",
   "id": "34b608c5",
   "metadata": {},
   "source": [
    "\n",
    "# Price Elasticity & Price Optimization — Log-Log Model\n",
    "\n",
    "This notebook extends the original analysis with:\n",
    "- **Exploratory Data Analysis (EDA)** (distribution, spread, correlations, outliers)\n",
    "- **Log normalization** for `Price` and `Quantity`\n",
    "- **Demand modeling** in both **levels** and **log–log** (constant elasticity)\n",
    "- **PED estimation** and **profit-optimizing price** computation\n",
    "- Clear, single-purpose **visuals** (matplotlib only)\n",
    "\n",
    "> Expected CSV: **`price_data.csv`** with columns **`Price`** and **`Quantity`**.\n"
   ]
  },
  {
   "cell_type": "markdown",
   "id": "1af3549e",
   "metadata": {},
   "source": [
    "## 1) Setup"
   ]
  },
  {
   "cell_type": "code",
   "execution_count": null,
   "id": "a0eb93c8",
   "metadata": {},
   "outputs": [],
   "source": [
    "\n",
    "import warnings\n",
    "warnings.filterwarnings(\"ignore\")\n",
    "\n",
    "import pandas as pd\n",
    "import numpy as np\n",
    "import matplotlib.pyplot as plt\n",
    "\n",
    "import statsmodels.api as sm\n",
    "import statsmodels.formula.api as smf\n",
    "from statsmodels.stats.diagnostic import het_breuschpagan\n",
    "from statsmodels.stats.api import jarque_bera\n",
    "\n",
    "# Chart defaults (one chart per cell; no explicit colors)\n",
    "plt.rcParams['figure.figsize'] = (7,4)\n",
    "plt.rcParams['axes.grid'] = True\n",
    "\n",
    "print(\"Libraries ready.\")\n"
   ]
  },
  {
   "cell_type": "markdown",
   "id": "dc127545",
   "metadata": {},
   "source": [
    "## 2) Load dataset"
   ]
  },
  {
   "cell_type": "code",
   "execution_count": null,
   "id": "5131f7c8",
   "metadata": {},
   "outputs": [],
   "source": [
    "\n",
    "from pathlib import Path\n",
    "\n",
    "CANDIDATES = [Path('price_data.csv'), Path('./data/price_data.csv')]\n",
    "DATA_PATH = next((p for p in CANDIDATES if p.exists()), None)\n",
    "\n",
    "if DATA_PATH is None:\n",
    "    # Fallback: synthesize a dataset so the notebook remains demonstrable\n",
    "    rng = np.random.default_rng(42)\n",
    "    n = 1000\n",
    "    # price around 50-300 with outliers\n",
    "    price = np.clip(rng.normal(180, 70, size=n), 15, 1000).round(0)\n",
    "    # quantity: inverse-ish relation + noise, intentionally wide spread\n",
    "    quantity = (5000 * (price**-0.9) * np.exp(rng.normal(0, 0.7, size=n))).round(0)\n",
    "    df = pd.DataFrame({'Price': price.astype(int), 'Quantity': quantity.astype(int)})\n",
    "    DATA_PATH = Path('price_data_synthetic.csv')\n",
    "    df.to_csv(DATA_PATH, index=False)\n",
    "    print(f\"⚠️ Could not find `price_data.csv`. Generated a synthetic demo dataset at: {DATA_PATH}\")\n",
    "else:\n",
    "    df = pd.read_csv(DATA_PATH)\n",
    "    print(f\"Using: {DATA_PATH}\")\n",
    "\n",
    "assert {'Price','Quantity'}.issubset(df.columns), \"CSV must have Price and Quantity columns\"\n",
    "df.head()\n"
   ]
  },
  {
   "cell_type": "markdown",
   "id": "990b5868",
   "metadata": {},
   "source": [
    "## 3) Exploratory Data Analysis"
   ]
  },
  {
   "cell_type": "code",
   "execution_count": null,
   "id": "711b51ab",
   "metadata": {},
   "outputs": [],
   "source": [
    "\n",
    "summary = df.describe()\n",
    "print(summary)\n",
    "\n",
    "# Basic sanity checks\n",
    "n_zeros = (df[['Price','Quantity']]==0).sum()\n",
    "n_neg = (df[['Price','Quantity']]<0).sum()\n",
    "print(\"\\nZeros per column:\\n\", n_zeros)\n",
    "print(\"\\nNegatives per column:\\n\", n_neg)\n"
   ]
  },
  {
   "cell_type": "code",
   "execution_count": null,
   "id": "9c4d12e3",
   "metadata": {},
   "outputs": [],
   "source": [
    "\n",
    "# Histogram: Price\n",
    "plt.figure()\n",
    "plt.hist(df['Price'].dropna(), bins=40)\n",
    "plt.title(\"Histogram — Price\")\n",
    "plt.xlabel(\"Price\")\n",
    "plt.ylabel(\"Count\")\n",
    "plt.show()\n"
   ]
  },
  {
   "cell_type": "code",
   "execution_count": null,
   "id": "41fe4d61",
   "metadata": {},
   "outputs": [],
   "source": [
    "\n",
    "# Histogram: Quantity (note likely right-skew & heavy tail)\n",
    "plt.figure()\n",
    "plt.hist(df['Quantity'].dropna(), bins=40)\n",
    "plt.title(\"Histogram — Quantity\")\n",
    "plt.xlabel(\"Quantity\")\n",
    "plt.ylabel(\"Count\")\n",
    "plt.show()\n"
   ]
  },
  {
   "cell_type": "code",
   "execution_count": null,
   "id": "db3f2644",
   "metadata": {},
   "outputs": [],
   "source": [
    "\n",
    "# Scatter (levels)\n",
    "plt.figure()\n",
    "plt.scatter(df['Price'], df['Quantity'], s=10)\n",
    "plt.title(\"Scatter — Quantity vs Price (levels)\")\n",
    "plt.xlabel(\"Price\")\n",
    "plt.ylabel(\"Quantity\")\n",
    "plt.show()\n"
   ]
  },
  {
   "cell_type": "code",
   "execution_count": null,
   "id": "be58d50c",
   "metadata": {},
   "outputs": [],
   "source": [
    "\n",
    "corr = df[['Price','Quantity']].corr()\n",
    "print(\"Correlation matrix:\\n\", corr)\n"
   ]
  },
  {
   "cell_type": "markdown",
   "id": "355dd1cd",
   "metadata": {},
   "source": [
    "## 4) Log normalization"
   ]
  },
  {
   "cell_type": "code",
   "execution_count": null,
   "id": "0a9a5098",
   "metadata": {},
   "outputs": [],
   "source": [
    "\n",
    "# Ensure strictly positive before log\n",
    "mask_pos = (df['Price']>0) & (df['Quantity']>0)\n",
    "df_log = df.loc[mask_pos, ['Price','Quantity']].copy()\n",
    "df_log['lnPrice'] = np.log(df_log['Price'])\n",
    "df_log['lnQty'] = np.log(df_log['Quantity'])\n",
    "\n",
    "print(df_log[['Price','Quantity','lnPrice','lnQty']].head())\n",
    "print(\"\\nDescribe (logged):\\n\", df_log[['lnPrice','lnQty']].describe())\n"
   ]
  },
  {
   "cell_type": "code",
   "execution_count": null,
   "id": "a4db1bed",
   "metadata": {},
   "outputs": [],
   "source": [
    "\n",
    "# Histograms on the log scale\n",
    "plt.figure()\n",
    "plt.hist(df_log['lnPrice'], bins=40)\n",
    "plt.title(\"Histogram — ln(Price)\")\n",
    "plt.xlabel(\"ln(Price)\")\n",
    "plt.ylabel(\"Count\")\n",
    "plt.show()\n",
    "\n",
    "plt.figure()\n",
    "plt.hist(df_log['lnQty'], bins=40)\n",
    "plt.title(\"Histogram — ln(Quantity)\")\n",
    "plt.xlabel(\"ln(Quantity)\")\n",
    "plt.ylabel(\"Count\")\n",
    "plt.show()\n"
   ]
  },
  {
   "cell_type": "markdown",
   "id": "1371996c",
   "metadata": {},
   "source": [
    "## 5) Demand models"
   ]
  },
  {
   "cell_type": "code",
   "execution_count": null,
   "id": "9c91cc28",
   "metadata": {},
   "outputs": [],
   "source": [
    "\n",
    "# (A) Linear levels: Q = a + b*P\n",
    "mod_lin = smf.ols('Quantity ~ Price', data=df).fit()\n",
    "print(mod_lin.summary())\n",
    "a, b = mod_lin.params['Intercept'], mod_lin.params['Price']\n",
    "\n",
    "# PED at sample means (point elasticity for linear demand)\n",
    "P_bar = df['Price'].mean()\n",
    "Q_bar = df['Quantity'].mean()\n",
    "ped_at_mean = b * (P_bar / Q_bar)\n",
    "print(f\"\\nLinear model PED at means = {ped_at_mean:.4f}\")\n"
   ]
  },
  {
   "cell_type": "code",
   "execution_count": null,
   "id": "001b7b88",
   "metadata": {},
   "outputs": [],
   "source": [
    "\n",
    "# (B) Log–log: ln Q = α + β ln P  (β is elasticity)\n",
    "mod_log = smf.ols('lnQty ~ lnPrice', data=df_log).fit()\n",
    "print(mod_log.summary())\n",
    "beta = mod_log.params['lnPrice']\n",
    "print(f\"\\nLog–log elasticity (β) = {beta:.4f}\")\n"
   ]
  },
  {
   "cell_type": "code",
   "execution_count": null,
   "id": "52a7114f",
   "metadata": {},
   "outputs": [],
   "source": [
    "\n",
    "# Visual: levels with fitted line\n",
    "plt.figure()\n",
    "plt.scatter(df['Price'], df['Quantity'], s=10, alpha=0.7)\n",
    "x = np.linspace(df['Price'].min(), df['Price'].max(), 100)\n",
    "y_hat = a + b * x\n",
    "plt.plot(x, y_hat)\n",
    "plt.title(\"Demand (levels) with OLS fit\")\n",
    "plt.xlabel(\"Price\")\n",
    "plt.ylabel(\"Quantity\")\n",
    "plt.show()\n"
   ]
  },
  {
   "cell_type": "code",
   "execution_count": null,
   "id": "0097fee5",
   "metadata": {},
   "outputs": [],
   "source": [
    "\n",
    "# Visual: log–log with fitted line\n",
    "plt.figure()\n",
    "plt.scatter(df_log['lnPrice'], df_log['lnQty'], s=10, alpha=0.7)\n",
    "xx = np.linspace(df_log['lnPrice'].min(), df_log['lnPrice'].max(), 100)\n",
    "yy_hat = mod_log.params['Intercept'] + beta * xx\n",
    "plt.plot(xx, yy_hat)\n",
    "plt.title(\"Demand (log–log) with OLS fit\")\n",
    "plt.xlabel(\"ln(Price)\")\n",
    "plt.ylabel(\"ln(Quantity)\")\n",
    "plt.show()\n"
   ]
  },
  {
   "cell_type": "markdown",
   "id": "aa2b31eb",
   "metadata": {},
   "source": [
    "## 6) Residual diagnostics"
   ]
  },
  {
   "cell_type": "code",
   "execution_count": null,
   "id": "c45293d4",
   "metadata": {},
   "outputs": [],
   "source": [
    "\n",
    "# Breusch–Pagan for heteroskedasticity (levels)\n",
    "bp_stat, bp_p, _, _ = het_breuschpagan(mod_lin.resid, mod_lin.model.exog)\n",
    "print(f\"Breusch–Pagan (levels): stat={bp_stat:.3f}, p={bp_p:.4g}\")\n",
    "\n",
    "# Jarque–Bera for residual normality (levels)\n",
    "jb_stat, jb_p, _, _ = jarque_bera(mod_lin.resid)\n",
    "print(f\"Jarque–Bera (levels): stat={jb_stat:.3f}, p={jb_p:.4g}\")\n",
    "\n",
    "# Breusch–Pagan for log–log\n",
    "bp_stat2, bp_p2, _, _ = het_breuschpagan(mod_log.resid, mod_log.model.exog)\n",
    "print(f\"Breusch–Pagan (log–log): stat={bp_stat2:.3f}, p={bp_p2:.4g}\")\n",
    "\n",
    "# Jarque–Bera for log–log\n",
    "jb_stat2, jb_p2, _, _ = jarque_bera(mod_log.resid)\n",
    "print(f\"Jarque–Bera (log–log): stat={jb_stat2:.3f}, p={jb_p2:.4g}\")\n"
   ]
  },
  {
   "cell_type": "code",
   "execution_count": null,
   "id": "2997d6c0",
   "metadata": {},
   "outputs": [],
   "source": [
    "\n",
    "# Residual plots: one chart per cell\n",
    "\n",
    "# Levels\n",
    "plt.figure()\n",
    "plt.scatter(mod_lin.fittedvalues, mod_lin.resid, s=10)\n",
    "plt.axhline(0, linestyle=\"--\")\n",
    "plt.title(\"Residuals vs Fitted — levels\")\n",
    "plt.xlabel(\"Fitted\")\n",
    "plt.ylabel(\"Residuals\")\n",
    "plt.show()\n"
   ]
  },
  {
   "cell_type": "code",
   "execution_count": null,
   "id": "741ffa99",
   "metadata": {},
   "outputs": [],
   "source": [
    "\n",
    "# Log–log\n",
    "plt.figure()\n",
    "plt.scatter(mod_log.fittedvalues, mod_log.resid, s=10)\n",
    "plt.axhline(0, linestyle=\"--\")\n",
    "plt.title(\"Residuals vs Fitted — log–log\")\n",
    "plt.xlabel(\"Fitted\")\n",
    "plt.ylabel(\"Residuals\")\n",
    "plt.show()\n"
   ]
  },
  {
   "cell_type": "markdown",
   "id": "e52afe60",
   "metadata": {},
   "source": [
    "## 7) Price optimization (profit) with log–log model"
   ]
  },
  {
   "cell_type": "code",
   "execution_count": null,
   "id": "8b3a33c5",
   "metadata": {},
   "outputs": [],
   "source": [
    "\n",
    "# In a constant-elasticity model Q(P) = A * P^β (β < 0), profit π = (P - c) * Q(P).\n",
    "# First-order condition -> optimal price P* = c * η / (η - 1), where η = -β (>0).\n",
    "beta = float(mod_log.params['lnPrice'])\n",
    "eta = -beta\n",
    "\n",
    "# User-set unit cost (USD). Adjust this to your case:\n",
    "cost_per_unit = 3.0\n",
    "\n",
    "if eta <= 1:\n",
    "    print(\"⚠️ Estimated elasticity implies η ≤ 1. Profit optimum is not interior; check model/data.\")\n",
    "    P_star = np.nan\n",
    "else:\n",
    "    P_star = cost_per_unit * eta / (eta - 1)\n",
    "\n",
    "A = float(np.exp(mod_log.params['Intercept']))\n",
    "def Q_of_P(p): return A * (p ** beta)\n",
    "\n",
    "# Evaluate at a grid for visuals\n",
    "gridP = np.linspace(max(0.5, cost_per_unit*0.8), max(df['Price'].max(), cost_per_unit*5), 200)\n",
    "rev = gridP * Q_of_P(gridP)\n",
    "prof = (gridP - cost_per_unit) * Q_of_P(gridP)\n",
    "\n",
    "print(f\"Elasticity η = {-beta:.4f}\")\n",
    "print(f\"Cost per unit c = {cost_per_unit:.2f}\")\n",
    "print(f\"Suggested optimal price P* ≈ {P_star:.2f}\") if not np.isnan(P_star) else None\n"
   ]
  },
  {
   "cell_type": "code",
   "execution_count": null,
   "id": "02ee9722",
   "metadata": {},
   "outputs": [],
   "source": [
    "\n",
    "# Visual: Revenue curve\n",
    "plt.figure()\n",
    "plt.plot(gridP, rev)\n",
    "plt.title(\"Revenue curve from log–log demand\")\n",
    "plt.xlabel(\"Price\")\n",
    "plt.ylabel(\"Revenue\")\n",
    "plt.show()\n"
   ]
  },
  {
   "cell_type": "code",
   "execution_count": null,
   "id": "f4a48b74",
   "metadata": {},
   "outputs": [],
   "source": [
    "\n",
    "# Visual: Profit curve with indicated P*\n",
    "plt.figure()\n",
    "plt.plot(gridP, prof)\n",
    "if 'P_star' in locals() and np.isfinite(P_star):\n",
    "    plt.axvline(P_star, linestyle=\"--\")\n",
    "    plt.title(f\"Profit curve (c={cost_per_unit:.2f}), P*≈{P_star:.2f}\")\n",
    "else:\n",
    "    plt.title(f\"Profit curve (c={cost_per_unit:.2f}) — no interior optimum\")\n",
    "plt.xlabel(\"Price\")\n",
    "plt.ylabel(\"Profit\")\n",
    "plt.show()\n"
   ]
  }
 ],
 "metadata": {},
 "nbformat": 4,
 "nbformat_minor": 5
}
